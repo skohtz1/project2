{
 "cells": [
  {
   "cell_type": "code",
   "execution_count": 1,
   "metadata": {},
   "outputs": [],
   "source": [
    "import requests\n",
    "import pandas as pd\n",
    "import sqlalchemy\n",
    "from sqlalchemy import create_engine, MetaData\n",
    "from sqlalchemy.orm import sessionmaker\n",
    "from sqlalchemy.ext.declarative import declarative_base\n",
    "from sqlalchemy import Column, Integer, String, Numeric, Text, Float\n",
    "import numpy as np\n",
    "import json\n",
    "import sqlite3\n",
    "import pymongo"
   ]
  },
  {
   "cell_type": "code",
   "execution_count": 2,
   "metadata": {},
   "outputs": [],
   "source": [
    "url = \"https://api.data.gov/ed/collegescorecard/v1/schools.json?&_page=0&_per_page=50&_fields=2015.student.retention_rate.overall.full_time,2015.completion.rate_suppressed.overall,2015.academics.program_percentage.mathematics,2015.academics.program_percentage.business_marketing,2015.academics.program_percentage.communications_technology,2015.academics.program_percentage.language,2015.academics.program_percentage.visual_performing,2015.academics.program_percentage.engineering_technology,2015.academics.program_percentage.parks_recreation_fitness,2015.academics.program_percentage.agriculture,2015.academics.program_percentage.security_law_enforcement,2015.academics.program_percentage.computer,2015.academics.program_percentage.precision_production,2015.academics.program_percentage.humanities,2015.academics.program_percentage.library,2015.academics.program_percentage.psychology,2015.academics.program_percentage.social_science,2015.academics.program_percentage.legal,2015.academics.program_percentage.english,2015.academics.program_percentage.construction,2015.academics.program_percentage.military,2015.academics.program_percentage.communication,2015.academics.program_percentage.public_administration_social_service,2015.academics.program_percentage.architecture,2015.academics.program_percentage.ethnic_cultural_gender,2015.academics.program_percentage.resources,2015.academics.program_percentage.health,2015.academics.program_percentage.engineering,2015.academics.program_percentage.history,2015.academics.program_percentage.theology_religious_vocation,2015.academics.program_percentage.transportation,2015.academics.program_percentage.physical_science,2015.academics.program_percentage.science_technology,2015.academics.program_percentage.biological,2015.academics.program_percentage.family_consumer_science,2015.academics.program_percentage.philosophy_religious,2015.academics.program_percentage.personal_culinary,2015.academics.program_percentage.multidiscipline,2015.academics.program_percentage.mechanic_repair_technology,school.name,id&school.online_only=0&2015.student.size__range=1100..&api_key=TZzGbQIxCUsSuRlsV8kGenTldy3nkn1bAQOqjezi\""
   ]
  },
  {
   "cell_type": "code",
   "execution_count": 3,
   "metadata": {},
   "outputs": [],
   "source": [
    "##This is the initial API call, so that we do not have magic numbers in our for loop\n",
    "init_college_scorecard_api = requests.get(url)"
   ]
  },
  {
   "cell_type": "code",
   "execution_count": 4,
   "metadata": {},
   "outputs": [],
   "source": [
    "init_college_data = init_college_scorecard_api.json()"
   ]
  },
  {
   "cell_type": "code",
   "execution_count": 5,
   "metadata": {},
   "outputs": [
    {
     "data": {
      "text/plain": [
       "46"
      ]
     },
     "execution_count": 5,
     "metadata": {},
     "output_type": "execute_result"
    }
   ],
   "source": [
    "int(np.ceil(init_college_data[\"metadata\"][\"total\"]/init_college_data['metadata'][\"per_page\"]))"
   ]
  },
  {
   "cell_type": "code",
   "execution_count": 6,
   "metadata": {},
   "outputs": [],
   "source": [
    "init_program_dict_keys = list(init_college_data[\"results\"][1].keys())"
   ]
  },
  {
   "cell_type": "code",
   "execution_count": null,
   "metadata": {},
   "outputs": [],
   "source": [
    "init_program_dict_keys"
   ]
  },
  {
   "cell_type": "code",
   "execution_count": 7,
   "metadata": {},
   "outputs": [],
   "source": [
    "program_list = []\n",
    "for each in init_program_dict_keys:\n",
    "    if each.startswith(\"2015.academics\"):\n",
    "        program_list.append(each)\n",
    "    else:\n",
    "        continue  \n",
    "        "
   ]
  },
  {
   "cell_type": "code",
   "execution_count": null,
   "metadata": {},
   "outputs": [],
   "source": [
    "str = program_list[0]\n",
    "print(str.replace(\".\", \"_\"))"
   ]
  },
  {
   "cell_type": "code",
   "execution_count": null,
   "metadata": {},
   "outputs": [],
   "source": [
    "program_list[0].replace(\".\",\"_\")"
   ]
  },
  {
   "cell_type": "code",
   "execution_count": null,
   "metadata": {},
   "outputs": [],
   "source": [
    "program_list[0]"
   ]
  },
  {
   "cell_type": "code",
   "execution_count": 8,
   "metadata": {},
   "outputs": [],
   "source": [
    "full_data_program_dict = {}\n",
    "for j in range(0,int(np.ceil(init_college_data[\"metadata\"][\"total\"]/init_college_data['metadata'][\"per_page\"]))):\n",
    "    page = j\n",
    "    college_scorecard_api = requests.get(\"https://api.data.gov/ed/collegescorecard/v1/schools.json?&_page=\"+str(page)+\"&_per_page=50&_fields=2015.student.retention_rate.overall.full_time,2015.completion.rate_suppressed.overall,2015.academics.program_percentage.mathematics,2015.academics.program_percentage.business_marketing,2015.academics.program_percentage.communications_technology,2015.academics.program_percentage.language,2015.academics.program_percentage.visual_performing,2015.academics.program_percentage.engineering_technology,2015.academics.program_percentage.parks_recreation_fitness,2015.academics.program_percentage.agriculture,2015.academics.program_percentage.security_law_enforcement,2015.academics.program_percentage.computer,2015.academics.program_percentage.precision_production,2015.academics.program_percentage.humanities,2015.academics.program_percentage.library,2015.academics.program_percentage.psychology,2015.academics.program_percentage.social_science,2015.academics.program_percentage.legal,2015.academics.program_percentage.english,2015.academics.program_percentage.construction,2015.academics.program_percentage.military,2015.academics.program_percentage.communication,2015.academics.program_percentage.public_administration_social_service,2015.academics.program_percentage.architecture,2015.academics.program_percentage.ethnic_cultural_gender,2015.academics.program_percentage.resources,2015.academics.program_percentage.health,2015.academics.program_percentage.engineering,2015.academics.program_percentage.history,2015.academics.program_percentage.theology_religious_vocation,2015.academics.program_percentage.transportation,2015.academics.program_percentage.physical_science,2015.academics.program_percentage.science_technology,2015.academics.program_percentage.biological,2015.academics.program_percentage.family_consumer_science,2015.academics.program_percentage.philosophy_religious,2015.academics.program_percentage.personal_culinary,2015.academics.program_percentage.multidiscipline,2015.academics.program_percentage.mechanic_repair_technology,school.name,id&school.online_only=0&2015.student.size__range=1100..&api_key=TZzGbQIxCUsSuRlsV8kGenTldy3nkn1bAQOqjezi\")\n",
    "    college_data = college_scorecard_api.json()\n",
    "    for i in range(len(college_data['results'])): \n",
    "        data_academics_list = []\n",
    "        data_program_dict = {}\n",
    "        for k in range(len(college_data[\"results\"][i])-4):\n",
    "            data_program_dict[program_list[k].replace(\".\",\"_\")] = college_data[\"results\"][i][program_list[k]]\n",
    "#             data_academics_dict[p[k]]=college_data[\"results\"][i][init_program_dict_keys[k]]\n",
    "            print(str(j)+ \" loadings results...\")\n",
    "        data_academics_list.append(data_program_dict)\n",
    "        full_data_program_dict[college_data[\"results\"][i][\"school.name\"].replace(\".\",\"_\")] = data_academics_list\n",
    "   "
   ]
  },
  {
   "cell_type": "code",
   "execution_count": null,
   "metadata": {},
   "outputs": [],
   "source": [
    "     \n",
    "        "
   ]
  },
  {
   "cell_type": "code",
   "execution_count": 9,
   "metadata": {},
   "outputs": [],
   "source": [
    "conn = 'mongodb://localhost:27017'\n",
    "client = pymongo.MongoClient(conn)"
   ]
  },
  {
   "cell_type": "code",
   "execution_count": 10,
   "metadata": {},
   "outputs": [],
   "source": [
    "db = client.academic_program_DB"
   ]
  },
  {
   "cell_type": "code",
   "execution_count": 11,
   "metadata": {},
   "outputs": [],
   "source": [
    "program_percentages = db.program_percentages.find()"
   ]
  },
  {
   "cell_type": "code",
   "execution_count": 12,
   "metadata": {},
   "outputs": [
    {
     "data": {
      "text/plain": [
       "<pymongo.results.InsertOneResult at 0x28939ec2708>"
      ]
     },
     "execution_count": 12,
     "metadata": {},
     "output_type": "execute_result"
    }
   ],
   "source": [
    "db.program_percentages.insert_one(full_data_program_dict)"
   ]
  },
  {
   "cell_type": "code",
   "execution_count": 13,
   "metadata": {},
   "outputs": [
    {
     "name": "stderr",
     "output_type": "stream",
     "text": [
      "IOPub data rate exceeded.\n",
      "The notebook server will temporarily stop sending output\n",
      "to the client in order to avoid crashing it.\n",
      "To change this limit, set the config variable\n",
      "`--NotebookApp.iopub_data_rate_limit`.\n"
     ]
    }
   ],
   "source": [
    "for school in program_percentages:\n",
    "    print(school)"
   ]
  },
  {
   "cell_type": "code",
   "execution_count": null,
   "metadata": {},
   "outputs": [],
   "source": []
  }
 ],
 "metadata": {
  "kernelspec": {
   "display_name": "Python 3",
   "language": "python",
   "name": "python3"
  },
  "language_info": {
   "codemirror_mode": {
    "name": "ipython",
    "version": 3
   },
   "file_extension": ".py",
   "mimetype": "text/x-python",
   "name": "python",
   "nbconvert_exporter": "python",
   "pygments_lexer": "ipython3",
   "version": "3.6.3"
  }
 },
 "nbformat": 4,
 "nbformat_minor": 2
}
