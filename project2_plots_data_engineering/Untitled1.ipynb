{
 "cells": [
  {
   "cell_type": "code",
   "execution_count": 1,
   "metadata": {},
   "outputs": [],
   "source": [
    "import numpy as np\n",
    "import pandas as pd"
   ]
  },
  {
   "cell_type": "code",
   "execution_count": 2,
   "metadata": {},
   "outputs": [],
   "source": [
    "from sqlalchemy.ext.automap import automap_base\n",
    "from sqlalchemy.orm import Session\n",
    "from sqlalchemy import create_engine, func, distinct, inspect, Table, MetaData\n",
    "\n",
    "\n",
    "\n",
    "from flask import (\n",
    "    Flask,\n",
    "    render_template,\n",
    "    jsonify,\n",
    "    request,\n",
    "    redirect)"
   ]
  },
  {
   "cell_type": "code",
   "execution_count": 3,
   "metadata": {},
   "outputs": [],
   "source": [
    "app = Flask(__name__)\n",
    "\n"
   ]
  },
  {
   "cell_type": "code",
   "execution_count": 4,
   "metadata": {},
   "outputs": [],
   "source": [
    "from flask_sqlalchemy import SQLAlchemy\n",
    "engine = create_engine(\"sqlite:///data_college.sqlite\")"
   ]
  },
  {
   "cell_type": "code",
   "execution_count": 5,
   "metadata": {},
   "outputs": [],
   "source": [
    "Base = automap_base()\n",
    "Base.prepare(engine, reflect = True)"
   ]
  },
  {
   "cell_type": "code",
   "execution_count": 9,
   "metadata": {},
   "outputs": [
    {
     "name": "stdout",
     "output_type": "stream",
     "text": [
      "immutabledict({'academics': Table('academics', MetaData(bind=Engine(sqlite:///data_college.sqlite)), Column('index', BIGINT(), table=<academics>), Column('2015.academics.program_percentage.agriculture', FLOAT(), table=<academics>), Column('2015.academics.program_percentage.architecture', FLOAT(), table=<academics>), Column('2015.academics.program_percentage.biological', FLOAT(), table=<academics>), Column('2015.academics.program_percentage.business_marketing', FLOAT(), table=<academics>), Column('2015.academics.program_percentage.communication', FLOAT(), table=<academics>), Column('2015.academics.program_percentage.communications_technology', FLOAT(), table=<academics>), Column('2015.academics.program_percentage.computer', FLOAT(), table=<academics>), Column('2015.academics.program_percentage.construction', FLOAT(), table=<academics>), Column('2015.academics.program_percentage.engineering', FLOAT(), table=<academics>), Column('2015.academics.program_percentage.engineering_technology', FLOAT(), table=<academics>), Column('2015.academics.program_percentage.english', FLOAT(), table=<academics>), Column('2015.academics.program_percentage.ethnic_cultural_gender', FLOAT(), table=<academics>), Column('2015.academics.program_percentage.family_consumer_science', FLOAT(), table=<academics>), Column('2015.academics.program_percentage.health', FLOAT(), table=<academics>), Column('2015.academics.program_percentage.history', FLOAT(), table=<academics>), Column('2015.academics.program_percentage.humanities', FLOAT(), table=<academics>), Column('2015.academics.program_percentage.language', FLOAT(), table=<academics>), Column('2015.academics.program_percentage.legal', FLOAT(), table=<academics>), Column('2015.academics.program_percentage.library', FLOAT(), table=<academics>), Column('2015.academics.program_percentage.mathematics', FLOAT(), table=<academics>), Column('2015.academics.program_percentage.mechanic_repair_technology', FLOAT(), table=<academics>), Column('2015.academics.program_percentage.military', FLOAT(), table=<academics>), Column('2015.academics.program_percentage.multidiscipline', FLOAT(), table=<academics>), Column('2015.academics.program_percentage.parks_recreation_fitness', FLOAT(), table=<academics>), Column('2015.academics.program_percentage.personal_culinary', FLOAT(), table=<academics>), Column('2015.academics.program_percentage.philosophy_religious', FLOAT(), table=<academics>), Column('2015.academics.program_percentage.physical_science', FLOAT(), table=<academics>), Column('2015.academics.program_percentage.precision_production', FLOAT(), table=<academics>), Column('2015.academics.program_percentage.psychology', FLOAT(), table=<academics>), Column('2015.academics.program_percentage.public_administration_social_service', FLOAT(), table=<academics>), Column('2015.academics.program_percentage.resources', FLOAT(), table=<academics>), Column('2015.academics.program_percentage.science_technology', FLOAT(), table=<academics>), Column('2015.academics.program_percentage.security_law_enforcement', FLOAT(), table=<academics>), Column('2015.academics.program_percentage.social_science', FLOAT(), table=<academics>), Column('2015.academics.program_percentage.theology_religious_vocation', FLOAT(), table=<academics>), Column('2015.academics.program_percentage.transportation', FLOAT(), table=<academics>), Column('2015.academics.program_percentage.visual_performing', FLOAT(), table=<academics>), Column('2015.completion.rate_suppressed.overall', FLOAT(), table=<academics>), Column('2015.student.retention_rate.overall.full_time', FLOAT(), table=<academics>), Column('id', BIGINT(), table=<academics>), Column('school.name', TEXT(), table=<academics>), schema=None)})\n"
     ]
    }
   ],
   "source": [
    "\n",
    "\n",
    "\n",
    "\n",
    "# # Create MetaData instance\n",
    "# metadata = MetaData(engine, reflect=True)\n",
    "# print(metadata.tables)\n",
    "\n",
    "# Get Table\n",
    "ex_table = metadata.tables\n",
    "print(ex_table)"
   ]
  },
  {
   "cell_type": "code",
   "execution_count": null,
   "metadata": {},
   "outputs": [],
   "source": [
    "academics = Base.classes.academics"
   ]
  },
  {
   "cell_type": "code",
   "execution_count": null,
   "metadata": {},
   "outputs": [],
   "source": [
    "session = Session(engine)"
   ]
  },
  {
   "cell_type": "code",
   "execution_count": null,
   "metadata": {},
   "outputs": [],
   "source": []
  }
 ],
 "metadata": {
  "kernelspec": {
   "display_name": "Python 3",
   "language": "python",
   "name": "python3"
  },
  "language_info": {
   "codemirror_mode": {
    "name": "ipython",
    "version": 3
   },
   "file_extension": ".py",
   "mimetype": "text/x-python",
   "name": "python",
   "nbconvert_exporter": "python",
   "pygments_lexer": "ipython3",
   "version": "3.6.3"
  }
 },
 "nbformat": 4,
 "nbformat_minor": 2
}
