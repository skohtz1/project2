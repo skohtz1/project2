{
 "cells": [
  {
   "cell_type": "code",
   "execution_count": 1,
   "metadata": {},
   "outputs": [],
   "source": [
    "import requests\n",
    "import pandas as pd\n",
    "import sqlalchemy\n",
    "from sqlalchemy import create_engine, MetaData\n",
    "from sqlalchemy.orm import sessionmaker\n",
    "from sqlalchemy.ext.declarative import declarative_base\n",
    "from sqlalchemy import Column, Integer, String, Numeric, Text, Float\n",
    "import numpy as np\n",
    "import json\n",
    "import sqlite3\n",
    "import pymongo"
   ]
  },
  {
   "cell_type": "code",
   "execution_count": 2,
   "metadata": {},
   "outputs": [],
   "source": [
    "url = \"https://api.data.gov/ed/collegescorecard/v1/schools.json?&_page=0&_per_page=50&_fields=2015.student.retention_rate.overall.full_time,2015.completion.rate_suppressed.overall,2015.academics.program_percentage.mathematics,2015.academics.program_percentage.business_marketing,2015.academics.program_percentage.communications_technology,2015.academics.program_percentage.language,2015.academics.program_percentage.visual_performing,2015.academics.program_percentage.engineering_technology,2015.academics.program_percentage.parks_recreation_fitness,2015.academics.program_percentage.agriculture,2015.academics.program_percentage.security_law_enforcement,2015.academics.program_percentage.computer,2015.academics.program_percentage.precision_production,2015.academics.program_percentage.humanities,2015.academics.program_percentage.library,2015.academics.program_percentage.psychology,2015.academics.program_percentage.social_science,2015.academics.program_percentage.legal,2015.academics.program_percentage.english,2015.academics.program_percentage.construction,2015.academics.program_percentage.military,2015.academics.program_percentage.communication,2015.academics.program_percentage.public_administration_social_service,2015.academics.program_percentage.architecture,2015.academics.program_percentage.ethnic_cultural_gender,2015.academics.program_percentage.resources,2015.academics.program_percentage.health,2015.academics.program_percentage.engineering,2015.academics.program_percentage.history,2015.academics.program_percentage.theology_religious_vocation,2015.academics.program_percentage.transportation,2015.academics.program_percentage.physical_science,2015.academics.program_percentage.science_technology,2015.academics.program_percentage.biological,2015.academics.program_percentage.family_consumer_science,2015.academics.program_percentage.philosophy_religious,2015.academics.program_percentage.personal_culinary,2015.academics.program_percentage.multidiscipline,2015.academics.program_percentage.mechanic_repair_technology,school.name,id&school.online_only=0&2015.student.size__range=1100..&api_key=TZzGbQIxCUsSuRlsV8kGenTldy3nkn1bAQOqjezi\""
   ]
  },
  {
   "cell_type": "code",
   "execution_count": 3,
   "metadata": {},
   "outputs": [],
   "source": [
    "##This is the initial API call, so that we do not have magic numbers in our for loop\n",
    "init_college_scorecard_api = requests.get(url)"
   ]
  },
  {
   "cell_type": "code",
   "execution_count": 4,
   "metadata": {},
   "outputs": [],
   "source": [
    "init_college_data = init_college_scorecard_api.json()"
   ]
  },
  {
   "cell_type": "code",
   "execution_count": 5,
   "metadata": {},
   "outputs": [
    {
     "data": {
      "text/plain": [
       "46"
      ]
     },
     "execution_count": 5,
     "metadata": {},
     "output_type": "execute_result"
    }
   ],
   "source": [
    "int(np.ceil(init_college_data[\"metadata\"][\"total\"]/init_college_data['metadata'][\"per_page\"]))"
   ]
  },
  {
   "cell_type": "code",
   "execution_count": 6,
   "metadata": {},
   "outputs": [],
   "source": [
    "init_program_dict_keys = list(init_college_data[\"results\"][1].keys())"
   ]
  },
  {
   "cell_type": "code",
   "execution_count": 7,
   "metadata": {},
   "outputs": [
    {
     "data": {
      "text/plain": [
       "['2015.academics.program_percentage.family_consumer_science',\n",
       " '2015.academics.program_percentage.english',\n",
       " '2015.academics.program_percentage.mathematics',\n",
       " '2015.academics.program_percentage.security_law_enforcement',\n",
       " '2015.academics.program_percentage.transportation',\n",
       " '2015.academics.program_percentage.engineering_technology',\n",
       " '2015.academics.program_percentage.parks_recreation_fitness',\n",
       " '2015.academics.program_percentage.communication',\n",
       " '2015.academics.program_percentage.physical_science',\n",
       " '2015.academics.program_percentage.public_administration_social_service',\n",
       " '2015.academics.program_percentage.computer',\n",
       " '2015.academics.program_percentage.language',\n",
       " '2015.academics.program_percentage.library',\n",
       " '2015.academics.program_percentage.humanities',\n",
       " '2015.academics.program_percentage.psychology',\n",
       " '2015.academics.program_percentage.visual_performing',\n",
       " 'id',\n",
       " '2015.academics.program_percentage.business_marketing',\n",
       " '2015.academics.program_percentage.legal',\n",
       " '2015.academics.program_percentage.multidiscipline',\n",
       " '2015.academics.program_percentage.biological',\n",
       " '2015.academics.program_percentage.ethnic_cultural_gender',\n",
       " '2015.academics.program_percentage.resources',\n",
       " '2015.academics.program_percentage.engineering',\n",
       " '2015.academics.program_percentage.personal_culinary',\n",
       " 'school.name',\n",
       " '2015.academics.program_percentage.social_science',\n",
       " '2015.student.retention_rate.overall.full_time',\n",
       " '2015.academics.program_percentage.precision_production',\n",
       " '2015.academics.program_percentage.military',\n",
       " '2015.academics.program_percentage.health',\n",
       " '2015.academics.program_percentage.philosophy_religious',\n",
       " '2015.academics.program_percentage.agriculture',\n",
       " '2015.academics.program_percentage.history',\n",
       " '2015.academics.program_percentage.communications_technology',\n",
       " '2015.academics.program_percentage.theology_religious_vocation',\n",
       " '2015.academics.program_percentage.mechanic_repair_technology',\n",
       " '2015.academics.program_percentage.science_technology',\n",
       " '2015.academics.program_percentage.architecture',\n",
       " '2015.academics.program_percentage.construction',\n",
       " '2015.completion.rate_suppressed.overall']"
      ]
     },
     "execution_count": 7,
     "metadata": {},
     "output_type": "execute_result"
    }
   ],
   "source": [
    "init_program_dict_keys"
   ]
  },
  {
   "cell_type": "code",
   "execution_count": 8,
   "metadata": {},
   "outputs": [],
   "source": [
    "program_list = []\n",
    "for each in init_program_dict_keys:\n",
    "    if each.startswith(\"2015.academics\"):\n",
    "        program_list.append(each)\n",
    "    else:\n",
    "        continue  \n",
    "        "
   ]
  },
  {
   "cell_type": "code",
   "execution_count": null,
   "metadata": {},
   "outputs": [],
   "source": [
    "str = program_list[0]\n",
    "print(str.replace(\".\", \"_\"))"
   ]
  },
  {
   "cell_type": "code",
   "execution_count": null,
   "metadata": {},
   "outputs": [],
   "source": [
    "program_list[0].replace(\".\",\"_\")"
   ]
  },
  {
   "cell_type": "code",
   "execution_count": null,
   "metadata": {},
   "outputs": [],
   "source": [
    "program_list[0]"
   ]
  },
  {
   "cell_type": "code",
   "execution_count": 9,
   "metadata": {},
   "outputs": [],
   "source": [
    "full_data_program_dict = {}\n",
    "for j in range(0,int(np.ceil(init_college_data[\"metadata\"][\"total\"]/init_college_data['metadata'][\"per_page\"]))):\n",
    "    page = j\n",
    "    college_scorecard_api = requests.get(\"https://api.data.gov/ed/collegescorecard/v1/schools.json?&_page=\"+str(page)+\"&_per_page=50&_fields=2015.student.retention_rate.overall.full_time,2015.completion.rate_suppressed.overall,2015.academics.program_percentage.mathematics,2015.academics.program_percentage.business_marketing,2015.academics.program_percentage.communications_technology,2015.academics.program_percentage.language,2015.academics.program_percentage.visual_performing,2015.academics.program_percentage.engineering_technology,2015.academics.program_percentage.parks_recreation_fitness,2015.academics.program_percentage.agriculture,2015.academics.program_percentage.security_law_enforcement,2015.academics.program_percentage.computer,2015.academics.program_percentage.precision_production,2015.academics.program_percentage.humanities,2015.academics.program_percentage.library,2015.academics.program_percentage.psychology,2015.academics.program_percentage.social_science,2015.academics.program_percentage.legal,2015.academics.program_percentage.english,2015.academics.program_percentage.construction,2015.academics.program_percentage.military,2015.academics.program_percentage.communication,2015.academics.program_percentage.public_administration_social_service,2015.academics.program_percentage.architecture,2015.academics.program_percentage.ethnic_cultural_gender,2015.academics.program_percentage.resources,2015.academics.program_percentage.health,2015.academics.program_percentage.engineering,2015.academics.program_percentage.history,2015.academics.program_percentage.theology_religious_vocation,2015.academics.program_percentage.transportation,2015.academics.program_percentage.physical_science,2015.academics.program_percentage.science_technology,2015.academics.program_percentage.biological,2015.academics.program_percentage.family_consumer_science,2015.academics.program_percentage.philosophy_religious,2015.academics.program_percentage.personal_culinary,2015.academics.program_percentage.multidiscipline,2015.academics.program_percentage.mechanic_repair_technology,school.name,id&school.online_only=0&2015.student.size__range=1100..&api_key=TZzGbQIxCUsSuRlsV8kGenTldy3nkn1bAQOqjezi\")\n",
    "    college_data = college_scorecard_api.json()\n",
    "    for i in range(len(college_data['results'])): \n",
    "        data_academics_list = []\n",
    "        data_program_dict = {}\n",
    "        for k in range(len(college_data[\"results\"][i])-4):\n",
    "            data_program_dict[program_list[k].replace(\".\",\"_\")] = college_data[\"results\"][i][program_list[k]]\n",
    "#             data_academics_dict[p[k]]=college_data[\"results\"][i][init_program_dict_keys[k]]\n",
    "            print(str(j)+ \" loadings results...\")\n",
    "        data_academics_list.append(data_program_dict)\n",
    "        full_data_program_dict[college_data[\"results\"][i][\"school.name\"].replace(\".\",\"_\")] = data_academics_list\n",
    "        \n",
    "        "
   ]
  },
  {
   "cell_type": "code",
   "execution_count": 10,
   "metadata": {},
   "outputs": [],
   "source": [
    "conn = 'mongodb://localhost:27017'\n",
    "client = pymongo.MongoClient(conn)"
   ]
  },
  {
   "cell_type": "code",
   "execution_count": 11,
   "metadata": {},
   "outputs": [],
   "source": [
    "db = client.academic_program_DB"
   ]
  },
  {
   "cell_type": "code",
   "execution_count": 12,
   "metadata": {},
   "outputs": [],
   "source": [
    "program_percentages = db.program_percentages.find()"
   ]
  },
  {
   "cell_type": "code",
   "execution_count": 13,
   "metadata": {},
   "outputs": [
    {
     "ename": "InvalidDocument",
     "evalue": "key 'St. Joseph's College-New York' must not contain '.'",
     "output_type": "error",
     "traceback": [
      "\u001b[1;31m---------------------------------------------------------------------------\u001b[0m",
      "\u001b[1;31mInvalidDocument\u001b[0m                           Traceback (most recent call last)",
      "\u001b[1;32m<ipython-input-13-8ba5088ac895>\u001b[0m in \u001b[0;36m<module>\u001b[1;34m()\u001b[0m\n\u001b[1;32m----> 1\u001b[1;33m \u001b[0mdb\u001b[0m\u001b[1;33m.\u001b[0m\u001b[0mprogram_percentages\u001b[0m\u001b[1;33m.\u001b[0m\u001b[0minsert_one\u001b[0m\u001b[1;33m(\u001b[0m\u001b[0mfull_data_program_dict\u001b[0m\u001b[1;33m)\u001b[0m\u001b[1;33m\u001b[0m\u001b[0m\n\u001b[0m",
      "\u001b[1;32m~\\Anaconda3\\lib\\site-packages\\pymongo\\collection.py\u001b[0m in \u001b[0;36minsert_one\u001b[1;34m(self, document, bypass_document_validation, session)\u001b[0m\n\u001b[0;32m    681\u001b[0m             self._insert(document,\n\u001b[0;32m    682\u001b[0m                          \u001b[0mbypass_doc_val\u001b[0m\u001b[1;33m=\u001b[0m\u001b[0mbypass_document_validation\u001b[0m\u001b[1;33m,\u001b[0m\u001b[1;33m\u001b[0m\u001b[0m\n\u001b[1;32m--> 683\u001b[1;33m                          session=session),\n\u001b[0m\u001b[0;32m    684\u001b[0m             self.write_concern.acknowledged)\n\u001b[0;32m    685\u001b[0m \u001b[1;33m\u001b[0m\u001b[0m\n",
      "\u001b[1;32m~\\Anaconda3\\lib\\site-packages\\pymongo\\collection.py\u001b[0m in \u001b[0;36m_insert\u001b[1;34m(self, docs, ordered, check_keys, manipulate, write_concern, op_id, bypass_doc_val, session)\u001b[0m\n\u001b[0;32m    597\u001b[0m             return self._insert_one(\n\u001b[0;32m    598\u001b[0m                 \u001b[0mdocs\u001b[0m\u001b[1;33m,\u001b[0m \u001b[0mordered\u001b[0m\u001b[1;33m,\u001b[0m \u001b[0mcheck_keys\u001b[0m\u001b[1;33m,\u001b[0m \u001b[0mmanipulate\u001b[0m\u001b[1;33m,\u001b[0m \u001b[0mwrite_concern\u001b[0m\u001b[1;33m,\u001b[0m \u001b[0mop_id\u001b[0m\u001b[1;33m,\u001b[0m\u001b[1;33m\u001b[0m\u001b[0m\n\u001b[1;32m--> 599\u001b[1;33m                 bypass_doc_val, session)\n\u001b[0m\u001b[0;32m    600\u001b[0m \u001b[1;33m\u001b[0m\u001b[0m\n\u001b[0;32m    601\u001b[0m         \u001b[0mids\u001b[0m \u001b[1;33m=\u001b[0m \u001b[1;33m[\u001b[0m\u001b[1;33m]\u001b[0m\u001b[1;33m\u001b[0m\u001b[0m\n",
      "\u001b[1;32m~\\Anaconda3\\lib\\site-packages\\pymongo\\collection.py\u001b[0m in \u001b[0;36m_insert_one\u001b[1;34m(self, doc, ordered, check_keys, manipulate, write_concern, op_id, bypass_doc_val, session)\u001b[0m\n\u001b[0;32m    577\u001b[0m \u001b[1;33m\u001b[0m\u001b[0m\n\u001b[0;32m    578\u001b[0m             result = self.__database.client._retryable_write(\n\u001b[1;32m--> 579\u001b[1;33m                 True, _insert_command, session)\n\u001b[0m\u001b[0;32m    580\u001b[0m             \u001b[0m_check_write_command_response\u001b[0m\u001b[1;33m(\u001b[0m\u001b[0mresult\u001b[0m\u001b[1;33m)\u001b[0m\u001b[1;33m\u001b[0m\u001b[0m\n\u001b[0;32m    581\u001b[0m         \u001b[1;32melse\u001b[0m\u001b[1;33m:\u001b[0m\u001b[1;33m\u001b[0m\u001b[0m\n",
      "\u001b[1;32m~\\Anaconda3\\lib\\site-packages\\pymongo\\mongo_client.py\u001b[0m in \u001b[0;36m_retryable_write\u001b[1;34m(self, retryable, func, session)\u001b[0m\n\u001b[0;32m   1100\u001b[0m         \u001b[1;34m\"\"\"Internal retryable write helper.\"\"\"\u001b[0m\u001b[1;33m\u001b[0m\u001b[0m\n\u001b[0;32m   1101\u001b[0m         \u001b[1;32mwith\u001b[0m \u001b[0mself\u001b[0m\u001b[1;33m.\u001b[0m\u001b[0m_tmp_session\u001b[0m\u001b[1;33m(\u001b[0m\u001b[0msession\u001b[0m\u001b[1;33m)\u001b[0m \u001b[1;32mas\u001b[0m \u001b[0ms\u001b[0m\u001b[1;33m:\u001b[0m\u001b[1;33m\u001b[0m\u001b[0m\n\u001b[1;32m-> 1102\u001b[1;33m             \u001b[1;32mreturn\u001b[0m \u001b[0mself\u001b[0m\u001b[1;33m.\u001b[0m\u001b[0m_retry_with_session\u001b[0m\u001b[1;33m(\u001b[0m\u001b[0mretryable\u001b[0m\u001b[1;33m,\u001b[0m \u001b[0mfunc\u001b[0m\u001b[1;33m,\u001b[0m \u001b[0ms\u001b[0m\u001b[1;33m,\u001b[0m \u001b[1;32mNone\u001b[0m\u001b[1;33m)\u001b[0m\u001b[1;33m\u001b[0m\u001b[0m\n\u001b[0m\u001b[0;32m   1103\u001b[0m \u001b[1;33m\u001b[0m\u001b[0m\n\u001b[0;32m   1104\u001b[0m     \u001b[1;32mdef\u001b[0m \u001b[0m__reset_server\u001b[0m\u001b[1;33m(\u001b[0m\u001b[0mself\u001b[0m\u001b[1;33m,\u001b[0m \u001b[0maddress\u001b[0m\u001b[1;33m)\u001b[0m\u001b[1;33m:\u001b[0m\u001b[1;33m\u001b[0m\u001b[0m\n",
      "\u001b[1;32m~\\Anaconda3\\lib\\site-packages\\pymongo\\mongo_client.py\u001b[0m in \u001b[0;36m_retry_with_session\u001b[1;34m(self, retryable, func, session, bulk)\u001b[0m\n\u001b[0;32m   1077\u001b[0m                         \u001b[1;31m# Reset the transaction id and retry the operation.\u001b[0m\u001b[1;33m\u001b[0m\u001b[1;33m\u001b[0m\u001b[0m\n\u001b[0;32m   1078\u001b[0m                         \u001b[0msession\u001b[0m\u001b[1;33m.\u001b[0m\u001b[0m_retry_transaction_id\u001b[0m\u001b[1;33m(\u001b[0m\u001b[1;33m)\u001b[0m\u001b[1;33m\u001b[0m\u001b[0m\n\u001b[1;32m-> 1079\u001b[1;33m                     \u001b[1;32mreturn\u001b[0m \u001b[0mfunc\u001b[0m\u001b[1;33m(\u001b[0m\u001b[0msession\u001b[0m\u001b[1;33m,\u001b[0m \u001b[0msock_info\u001b[0m\u001b[1;33m,\u001b[0m \u001b[0mretryable\u001b[0m\u001b[1;33m)\u001b[0m\u001b[1;33m\u001b[0m\u001b[0m\n\u001b[0m\u001b[0;32m   1080\u001b[0m             \u001b[1;32mexcept\u001b[0m \u001b[0mServerSelectionTimeoutError\u001b[0m\u001b[1;33m:\u001b[0m\u001b[1;33m\u001b[0m\u001b[0m\n\u001b[0;32m   1081\u001b[0m                 \u001b[1;32mif\u001b[0m \u001b[0mis_retrying\u001b[0m\u001b[1;33m(\u001b[0m\u001b[1;33m)\u001b[0m\u001b[1;33m:\u001b[0m\u001b[1;33m\u001b[0m\u001b[0m\n",
      "\u001b[1;32m~\\Anaconda3\\lib\\site-packages\\pymongo\\collection.py\u001b[0m in \u001b[0;36m_insert_command\u001b[1;34m(session, sock_info, retryable_write)\u001b[0m\n\u001b[0;32m    574\u001b[0m                     \u001b[0msession\u001b[0m\u001b[1;33m=\u001b[0m\u001b[0msession\u001b[0m\u001b[1;33m,\u001b[0m\u001b[1;33m\u001b[0m\u001b[0m\n\u001b[0;32m    575\u001b[0m                     \u001b[0mclient\u001b[0m\u001b[1;33m=\u001b[0m\u001b[0mself\u001b[0m\u001b[1;33m.\u001b[0m\u001b[0m__database\u001b[0m\u001b[1;33m.\u001b[0m\u001b[0mclient\u001b[0m\u001b[1;33m,\u001b[0m\u001b[1;33m\u001b[0m\u001b[0m\n\u001b[1;32m--> 576\u001b[1;33m                     retryable_write=retryable_write)\n\u001b[0m\u001b[0;32m    577\u001b[0m \u001b[1;33m\u001b[0m\u001b[0m\n\u001b[0;32m    578\u001b[0m             result = self.__database.client._retryable_write(\n",
      "\u001b[1;32m~\\Anaconda3\\lib\\site-packages\\pymongo\\pool.py\u001b[0m in \u001b[0;36mcommand\u001b[1;34m(self, dbname, spec, slave_ok, read_preference, codec_options, check, allowable_errors, check_keys, read_concern, write_concern, parse_write_concern_error, collation, session, client, retryable_write, publish_events)\u001b[0m\n\u001b[0;32m    520\u001b[0m         \u001b[1;31m# Catch socket.error, KeyboardInterrupt, etc. and close ourselves.\u001b[0m\u001b[1;33m\u001b[0m\u001b[1;33m\u001b[0m\u001b[0m\n\u001b[0;32m    521\u001b[0m         \u001b[1;32mexcept\u001b[0m \u001b[0mBaseException\u001b[0m \u001b[1;32mas\u001b[0m \u001b[0merror\u001b[0m\u001b[1;33m:\u001b[0m\u001b[1;33m\u001b[0m\u001b[0m\n\u001b[1;32m--> 522\u001b[1;33m             \u001b[0mself\u001b[0m\u001b[1;33m.\u001b[0m\u001b[0m_raise_connection_failure\u001b[0m\u001b[1;33m(\u001b[0m\u001b[0merror\u001b[0m\u001b[1;33m)\u001b[0m\u001b[1;33m\u001b[0m\u001b[0m\n\u001b[0m\u001b[0;32m    523\u001b[0m \u001b[1;33m\u001b[0m\u001b[0m\n\u001b[0;32m    524\u001b[0m     \u001b[1;32mdef\u001b[0m \u001b[0msend_message\u001b[0m\u001b[1;33m(\u001b[0m\u001b[0mself\u001b[0m\u001b[1;33m,\u001b[0m \u001b[0mmessage\u001b[0m\u001b[1;33m,\u001b[0m \u001b[0mmax_doc_size\u001b[0m\u001b[1;33m)\u001b[0m\u001b[1;33m:\u001b[0m\u001b[1;33m\u001b[0m\u001b[0m\n",
      "\u001b[1;32m~\\Anaconda3\\lib\\site-packages\\pymongo\\pool.py\u001b[0m in \u001b[0;36m_raise_connection_failure\u001b[1;34m(self, error)\u001b[0m\n\u001b[0;32m    675\u001b[0m             \u001b[0m_raise_connection_failure\u001b[0m\u001b[1;33m(\u001b[0m\u001b[0mself\u001b[0m\u001b[1;33m.\u001b[0m\u001b[0maddress\u001b[0m\u001b[1;33m,\u001b[0m \u001b[0merror\u001b[0m\u001b[1;33m)\u001b[0m\u001b[1;33m\u001b[0m\u001b[0m\n\u001b[0;32m    676\u001b[0m         \u001b[1;32melse\u001b[0m\u001b[1;33m:\u001b[0m\u001b[1;33m\u001b[0m\u001b[0m\n\u001b[1;32m--> 677\u001b[1;33m             \u001b[1;32mraise\u001b[0m \u001b[0merror\u001b[0m\u001b[1;33m\u001b[0m\u001b[0m\n\u001b[0m\u001b[0;32m    678\u001b[0m \u001b[1;33m\u001b[0m\u001b[0m\n\u001b[0;32m    679\u001b[0m     \u001b[1;32mdef\u001b[0m \u001b[0m__eq__\u001b[0m\u001b[1;33m(\u001b[0m\u001b[0mself\u001b[0m\u001b[1;33m,\u001b[0m \u001b[0mother\u001b[0m\u001b[1;33m)\u001b[0m\u001b[1;33m:\u001b[0m\u001b[1;33m\u001b[0m\u001b[0m\n",
      "\u001b[1;32m~\\Anaconda3\\lib\\site-packages\\pymongo\\pool.py\u001b[0m in \u001b[0;36mcommand\u001b[1;34m(self, dbname, spec, slave_ok, read_preference, codec_options, check, allowable_errors, check_keys, read_concern, write_concern, parse_write_concern_error, collation, session, client, retryable_write, publish_events)\u001b[0m\n\u001b[0;32m    515\u001b[0m                            \u001b[0mself\u001b[0m\u001b[1;33m.\u001b[0m\u001b[0mmax_bson_size\u001b[0m\u001b[1;33m,\u001b[0m \u001b[0mread_concern\u001b[0m\u001b[1;33m,\u001b[0m\u001b[1;33m\u001b[0m\u001b[0m\n\u001b[0;32m    516\u001b[0m                            \u001b[0mparse_write_concern_error\u001b[0m\u001b[1;33m=\u001b[0m\u001b[0mparse_write_concern_error\u001b[0m\u001b[1;33m,\u001b[0m\u001b[1;33m\u001b[0m\u001b[0m\n\u001b[1;32m--> 517\u001b[1;33m                            collation=collation)\n\u001b[0m\u001b[0;32m    518\u001b[0m         \u001b[1;32mexcept\u001b[0m \u001b[0mOperationFailure\u001b[0m\u001b[1;33m:\u001b[0m\u001b[1;33m\u001b[0m\u001b[0m\n\u001b[0;32m    519\u001b[0m             \u001b[1;32mraise\u001b[0m\u001b[1;33m\u001b[0m\u001b[0m\n",
      "\u001b[1;32m~\\Anaconda3\\lib\\site-packages\\pymongo\\network.py\u001b[0m in \u001b[0;36mcommand\u001b[1;34m(sock, dbname, spec, slave_ok, is_mongos, read_preference, codec_options, session, client, check, allowable_errors, address, check_keys, listeners, max_bson_size, read_concern, parse_write_concern_error, collation)\u001b[0m\n\u001b[0;32m    100\u001b[0m \u001b[1;33m\u001b[0m\u001b[0m\n\u001b[0;32m    101\u001b[0m     request_id, msg, size = message.query(flags, ns, 0, -1, spec,\n\u001b[1;32m--> 102\u001b[1;33m                                           None, codec_options, check_keys)\n\u001b[0m\u001b[0;32m    103\u001b[0m \u001b[1;33m\u001b[0m\u001b[0m\n\u001b[0;32m    104\u001b[0m     if (max_bson_size is not None\n",
      "\u001b[1;31mInvalidDocument\u001b[0m: key 'St. Joseph's College-New York' must not contain '.'"
     ]
    }
   ],
   "source": [
    "db.program_percentages.insert_one(full_data_program_dict)"
   ]
  },
  {
   "cell_type": "code",
   "execution_count": null,
   "metadata": {},
   "outputs": [],
   "source": []
  }
 ],
 "metadata": {
  "kernelspec": {
   "display_name": "Python 3",
   "language": "python",
   "name": "python3"
  },
  "language_info": {
   "codemirror_mode": {
    "name": "ipython",
    "version": 3
   },
   "file_extension": ".py",
   "mimetype": "text/x-python",
   "name": "python",
   "nbconvert_exporter": "python",
   "pygments_lexer": "ipython3",
   "version": "3.6.3"
  }
 },
 "nbformat": 4,
 "nbformat_minor": 2
}
