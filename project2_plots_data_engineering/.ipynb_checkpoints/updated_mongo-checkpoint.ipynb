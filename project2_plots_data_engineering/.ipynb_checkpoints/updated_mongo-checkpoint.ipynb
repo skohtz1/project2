{
 "cells": [
  {
   "cell_type": "code",
   "execution_count": 1,
   "metadata": {},
   "outputs": [],
   "source": [
    "import requests\n",
    "import pandas as pd\n",
    "import numpy as np\n",
    "import json\n",
    "import csv\n",
    "import pymongo"
   ]
  },
  {
   "cell_type": "code",
   "execution_count": 2,
   "metadata": {},
   "outputs": [],
   "source": [
    "demographics_url = \"https://api.data.gov/ed/collegescorecard/v1/schools.json?&_per_page=50&_fields=2015.student.demographics.women,2015.student.demographics.men,2015.student.demographics.age_entry,2015.student.demographics.avg_family_income,2015.student.demographics.race_ethnicity.black,2015.student.demographics.race_ethnicity.asian,2015.student.demographics.race_ethnicity.white,2015.student.demographics.race_ethnicity.hispanic,2015.student.demographics.race_ethnicity.nhpi,2015.student.demographics.race_ethnicity.unknown,2015.student.demographics.race_ethnicity.aian,2015.student.demographics.race_ethnicity.two_or_more,school.name&school.online_only=0&2015.student.size__range=1100..&api_key=TZzGbQIxCUsSuRlsV8kGenTldy3nkn1bAQOqjezi\"\n",
    "admissions_url = \"https://api.data.gov/ed/collegescorecard/v1/schools.json?&_per_page=50&_fields=2015.admissions.sat_scores.average.overall,2015.admissions.admission_rate.overall,2015.admissions.act_scores.midpoint.cumulative,school.name&school.online_only=0&2015.student.size__range=1100..&api_key=TZzGbQIxCUsSuRlsV8kGenTldy3nkn1bAQOqjezi\"\n",
    "cost_url = \"https://api.data.gov/ed/collegescorecard/v1/schools.json?&_per_page=50&_fields=2015.cost.avg_net_price.overall,2015.student.undergrads_with_pell_grant_or_federal_student_loan,school.name&school.online_only=0&2015.student.size__range=1100..&api_key=TZzGbQIxCUsSuRlsV8kGenTldy3nkn1bAQOqjezi\"\n",
    "earnings_url = \"https://api.data.gov/ed/collegescorecard/v1/schools.json?&_per_page=50&_fields=2013.earnings.6_yrs_after_entry.median,2013.earnings.6_yrs_after_entry.working_not_enrolled.mean_earnings,2013.earnings.6_yrs_after_entry.working_not_enrolled.std_dev,2013.earnings.6_yrs_after_entry.working_not_enrolled.overall,2013.earnings.6_yrs_after_entry.not_working_not_enrolled.overall,school.name&school.online_only=0&2015.student.size__range=1100..&api_key=TZzGbQIxCUsSuRlsV8kGenTldy3nkn1bAQOqjezi\"\n",
    "overall_url = \"https://api.data.gov/ed/collegescorecard/v1/schools.json?&_per_page=50&_fields=school.name,2015.student.size,location.lon,location.lat,school.state&school.online_only=0&2015.student.size__range=1100..&api_key=TZzGbQIxCUsSuRlsV8kGenTldy3nkn1bAQOqjezi\"\n",
    "other_url = \"https://api.data.gov/ed/collegescorecard/v1/schools.json?&_per_page=50&_fields=school.instructional_expenditure_per_fte,school.tuition_revenue_per_fte,school.name&school.online_only=0&2015.student.size__range=1100..&api_key=TZzGbQIxCUsSuRlsV8kGenTldy3nkn1bAQOqjezi\"\n",
    "academics_url = \"https://api.data.gov/ed/collegescorecard/v1/schools.json?&_per_page=50&_fields=2015.student.retention_rate.overall.full_time,2015.completion.rate_suppressed.overall,2015.academics.program_percentage.mathematics,2015.academics.program_percentage.business_marketing,2015.academics.program_percentage.communications_technology,2015.academics.program_percentage.language,2015.academics.program_percentage.visual_performing,2015.academics.program_percentage.engineering_technology,2015.academics.program_percentage.parks_recreation_fitness,2015.academics.program_percentage.agriculture,2015.academics.program_percentage.security_law_enforcement,2015.academics.program_percentage.computer,2015.academics.program_percentage.precision_production,2015.academics.program_percentage.humanities,2015.academics.program_percentage.library,2015.academics.program_percentage.psychology,2015.academics.program_percentage.social_science,2015.academics.program_percentage.legal,2015.academics.program_percentage.english,2015.academics.program_percentage.construction,2015.academics.program_percentage.military,2015.academics.program_percentage.communication,2015.academics.program_percentage.public_administration_social_service,2015.academics.program_percentage.architecture,2015.academics.program_percentage.ethnic_cultural_gender,2015.academics.program_percentage.resources,2015.academics.program_percentage.health,2015.academics.program_percentage.engineering,2015.academics.program_percentage.history,2015.academics.program_percentage.theology_religious_vocation,2015.academics.program_percentage.transportation,2015.academics.program_percentage.physical_science,2015.academics.program_percentage.science_technology,2015.academics.program_percentage.biological,2015.academics.program_percentage.family_consumer_science,2015.academics.program_percentage.philosophy_religious,2015.academics.program_percentage.personal_culinary,2015.academics.program_percentage.multidiscipline,2015.academics.program_percentage.mechanic_repair_technology,school.name&school.online_only=0&2015.student.size__range=1100..&api_key=TZzGbQIxCUsSuRlsV8kGenTldy3nkn1bAQOqjezi\"\n",
    "\n",
    "url_list = [demographics_url, admissions_url, cost_url, earnings_url, overall_url, other_url, academics_url]"
   ]
  },
  {
   "cell_type": "code",
   "execution_count": 3,
   "metadata": {},
   "outputs": [
    {
     "data": {
      "text/plain": [
       "'https://api.data.gov/ed/collegescorecard/v1/schools.json?&_page=1&_per_page=50&_fields=2015.student.demographics.women,2015.student.demographics.men,2015.student.demographics.age_entry,2015.student.demographics.avg_family_income,2015.student.demographics.race_ethnicity.black,2015.student.demographics.race_ethnicity.asian,2015.student.demographics.race_ethnicity.white,2015.student.demographics.race_ethnicity.hispanic,2015.student.demographics.race_ethnicity.nhpi,2015.student.demographics.race_ethnicity.unknown,2015.student.demographics.race_ethnicity.aian,2015.student.demographics.race_ethnicity.two_or_more,school.name&school.online_only=0&2015.student.size__range=5000..&api_key=TZzGbQIxCUsSuRlsV8kGenTldy3nkn1bAQOqjezi'"
      ]
     },
     "execution_count": 3,
     "metadata": {},
     "output_type": "execute_result"
    }
   ],
   "source": [
    "page = 1\n",
    "demographics_url.split('&', 1)[0] + '&_page=' + str(page) + '&' + demographics_url.split('&', 1)[1]\n",
    "\n",
    "# demographics_url.split('0', 1)[0] + str(page) + demographics_url.split('0', 1)[1]"
   ]
  },
  {
   "cell_type": "code",
   "execution_count": 4,
   "metadata": {},
   "outputs": [
    {
     "data": {
      "text/plain": [
       "18"
      ]
     },
     "execution_count": 4,
     "metadata": {},
     "output_type": "execute_result"
    }
   ],
   "source": [
    "url = demographics_url\n",
    "init_college_scorecard_api = requests.get(url)\n",
    "init_college_data = init_college_scorecard_api.json()\n",
    "init_college_data['metadata']\n",
    "int(np.ceil(init_college_data[\"metadata\"][\"total\"]/init_college_data['metadata'][\"per_page\"]))"
   ]
  },
  {
   "cell_type": "code",
   "execution_count": 5,
   "metadata": {},
   "outputs": [],
   "source": [
    "conn = 'mongodb://localhost:27017'\n",
    "client = pymongo.MongoClient(conn)\n",
    "client.drop_database('college_data')\n",
    "db = client.college_data"
   ]
  },
  {
   "cell_type": "code",
   "execution_count": 6,
   "metadata": {},
   "outputs": [
    {
     "name": "stdout",
     "output_type": "stream",
     "text": [
      "loading url: 0\n",
      "['2015.student.demographics.women', '2015.student.demographics.race_ethnicity.asian', '2015.student.demographics.race_ethnicity.nhpi', 'school.name', '2015.student.demographics.race_ethnicity.unknown', '2015.student.demographics.men', '2015.student.demographics.race_ethnicity.white', '2015.student.demographics.race_ethnicity.aian', '2015.student.demographics.age_entry', '2015.student.demographics.race_ethnicity.hispanic', '2015.student.demographics.race_ethnicity.two_or_more', '2015.student.demographics.race_ethnicity.black', '2015.student.demographics.avg_family_income']\n",
      "loading url: 1\n",
      "['school.name', '2015.admissions.sat_scores.average.overall', '2015.admissions.admission_rate.overall', '2015.admissions.act_scores.midpoint.cumulative']\n",
      "loading url: 2\n",
      "['2015.cost.avg_net_price.overall', 'school.name', '2015.student.undergrads_with_pell_grant_or_federal_student_loan']\n",
      "loading url: 3\n",
      "['school.name', '2013.earnings.6_yrs_after_entry.median', '2013.earnings.6_yrs_after_entry.working_not_enrolled.mean_earnings', '2013.earnings.6_yrs_after_entry.working_not_enrolled.std_dev', '2013.earnings.6_yrs_after_entry.working_not_enrolled.overall', '2013.earnings.6_yrs_after_entry.not_working_not_enrolled.overall']\n",
      "loading url: 4\n",
      "['school.name', '2015.student.size', 'school.state', 'location.lat', 'location.lon']\n",
      "loading url: 5\n",
      "['school.name', 'school.tuition_revenue_per_fte', 'school.instructional_expenditure_per_fte']\n",
      "loading url: 6\n",
      "['2015.academics.program_percentage.family_consumer_science', '2015.academics.program_percentage.english', '2015.academics.program_percentage.mathematics', '2015.academics.program_percentage.security_law_enforcement', '2015.academics.program_percentage.transportation', '2015.academics.program_percentage.engineering_technology', '2015.academics.program_percentage.parks_recreation_fitness', '2015.academics.program_percentage.communication', '2015.academics.program_percentage.physical_science', '2015.academics.program_percentage.public_administration_social_service', '2015.completion.rate_suppressed.overall', '2015.academics.program_percentage.computer', '2015.academics.program_percentage.language', '2015.academics.program_percentage.library', '2015.academics.program_percentage.humanities', '2015.academics.program_percentage.psychology', '2015.academics.program_percentage.visual_performing', '2015.academics.program_percentage.business_marketing', '2015.academics.program_percentage.legal', '2015.academics.program_percentage.multidiscipline', '2015.academics.program_percentage.biological', '2015.academics.program_percentage.ethnic_cultural_gender', '2015.academics.program_percentage.resources', '2015.academics.program_percentage.engineering', '2015.academics.program_percentage.personal_culinary', 'school.name', '2015.academics.program_percentage.social_science', '2015.student.retention_rate.overall.full_time', '2015.academics.program_percentage.precision_production', '2015.academics.program_percentage.military', '2015.academics.program_percentage.health', '2015.academics.program_percentage.philosophy_religious', '2015.academics.program_percentage.agriculture', '2015.academics.program_percentage.history', '2015.academics.program_percentage.communications_technology', '2015.academics.program_percentage.theology_religious_vocation', '2015.academics.program_percentage.mechanic_repair_technology', '2015.academics.program_percentage.science_technology', '2015.academics.program_percentage.architecture', '2015.academics.program_percentage.construction']\n"
     ]
    }
   ],
   "source": [
    "for url in url_list:\n",
    "    \n",
    "    print('loading url: ' + str(url_list.index(url)))\n",
    "    \n",
    "    # Get initial metadata of URL (pages, keys)\n",
    "    init_college_scorecard_api = requests.get(url)\n",
    "    init_college_data = init_college_scorecard_api.json()\n",
    "    init_dict_keys = list(init_college_data[\"results\"][1].keys())\n",
    "    print(init_dict_keys)\n",
    "\n",
    "#     program_list = []\n",
    "#     for each in init_dict_keys:\n",
    "#         if each.startswith(\"id\"):\n",
    "#             continue\n",
    "#         else:\n",
    "#             program_list.append(each)\n",
    "#     print(program_list)\n",
    "\n",
    "    full_data_dict = {}\n",
    "    sub_data_list = []\n",
    "    \n",
    "    # Loop for number of pages in API call\n",
    "    for j in range(0,int(np.ceil(init_college_data[\"metadata\"][\"total\"]/init_college_data['metadata'][\"per_page\"]))):\n",
    "        page = j\n",
    "        url_1 = url.split('&', 1)[0]\n",
    "        url_2 = url.split('&', 1)[1]\n",
    "        college_scorecard_api = requests.get(url_1 + '&_page=' + str(page) + '&' + url_2)\n",
    "        college_data = college_scorecard_api.json()\n",
    "        for i in range(len(college_data['results'])): \n",
    "    #         sub_data_list = []\n",
    "            data_dict = {}\n",
    "        \n",
    "            for k in range(len(college_data[\"results\"][i])):\n",
    "                data_dict[init_dict_keys[k].replace(\".\",\"_\")] = college_data[\"results\"][i][init_dict_keys[k]]\n",
    "\n",
    "            if \"_fields=2015.student.demographics.women\" in url:\n",
    "                demographics = db.demographics.find()\n",
    "                db.demographics.insert_one(data_dict)\n",
    "            if \"_fields=2015.admissions.sat_scores.average.overall\" in url:\n",
    "                admissions = db.admissions.find()\n",
    "                db.admissions.insert_one(data_dict)\n",
    "            if \"_fields=2015.cost.avg_net_price.overall\" in url:\n",
    "                cost = db.cost.find()\n",
    "                db.cost.insert_one(data_dict)\n",
    "            if \"_fields=2013.earnings.6_yrs_after_entry.median\" in url:\n",
    "                earnings = db.earnings.find()\n",
    "                db.earnings.insert_one(data_dict)\n",
    "            if \"_fields=school.name,2015.student.size\" in url:\n",
    "                overall = db.overall.find()\n",
    "                db.overall.insert_one(data_dict)\n",
    "            if \"_fields=school.instructional_expenditure_per_fte\" in url:\n",
    "                other = db.other.find()\n",
    "                db.other.insert_one(data_dict)\n",
    "            if \"_fields=2015.student.retention_rate.overall\" in url:\n",
    "                academics = db.academics.find()\n",
    "                db.academics.insert_one(data_dict)\n",
    "                    \n",
    "#             sub_data_list.append(data_dict)\n",
    "#             full_data_dict[college_data[\"results\"][i][\"school.name\"].replace(\".\", \"_\")] = sub_data_list\n",
    "\n",
    "#     data_df = pd.DataFrame(sub_data_list)\n",
    "#     data_df = data_df.set_index('school.name')\n",
    "#     data_df.head()\n",
    "#     print('Dumping to mongo...')\n",
    "    \n",
    "#     if \"_fields=2015.student.demographics.women\" in url:\n",
    "#         data_df.to_csv(\"demographics.csv\")\n",
    "#     if \"_fields=2015.admissions.sat_scores.average.overall\" in url:\n",
    "#         data_df.to_csv(\"admissions.csv\")\n",
    "#     if \"_fields=2015.cost.avg_net_price.overall\" in url:\n",
    "#         data_df.to_csv(\"cost.csv\")\n",
    "#     if \"_fields=2013.earnings.6_yrs_after_entry.median\" in url:\n",
    "#         data_df.to_csv(\"earnings.csv\")\n",
    "#     if \"_fields=school.name,2015.student.size\" in url:\n",
    "#         data_df.to_csv(\"overall.csv\")\n",
    "#     if \"_fields=school.instructional_expenditure_per_fte\" in url:\n",
    "#         data_df.to_csv(\"other.csv\")\n",
    "#     print(\"-----------------\")"
   ]
  },
  {
   "cell_type": "code",
   "execution_count": 7,
   "metadata": {},
   "outputs": [
    {
     "data": {
      "text/plain": [
       "{'2015_academics_program_percentage_agriculture': 0.0,\n",
       " '2015_academics_program_percentage_architecture': 0.0,\n",
       " '2015_academics_program_percentage_biological': 0.0342,\n",
       " '2015_academics_program_percentage_business_marketing': 0.0747,\n",
       " '2015_academics_program_percentage_communication': 0.0027,\n",
       " '2015_academics_program_percentage_communications_technology': 0.0,\n",
       " '2015_academics_program_percentage_computer': 0.1629,\n",
       " '2015_academics_program_percentage_construction': 0.0084,\n",
       " '2015_academics_program_percentage_engineering': 0.0116,\n",
       " '2015_academics_program_percentage_engineering_technology': 0.0316,\n",
       " '2015_academics_program_percentage_english': 0.0045,\n",
       " '2015_academics_program_percentage_ethnic_cultural_gender': 0.0,\n",
       " '2015_academics_program_percentage_family_consumer_science': 0.0149,\n",
       " '2015_academics_program_percentage_health': 0.1596,\n",
       " '2015_academics_program_percentage_history': 0.0018,\n",
       " '2015_academics_program_percentage_humanities': 0.1422,\n",
       " '2015_academics_program_percentage_language': 0.0084,\n",
       " '2015_academics_program_percentage_legal': 0.0071,\n",
       " '2015_academics_program_percentage_library': 0.0,\n",
       " '2015_academics_program_percentage_mathematics': 0.0056,\n",
       " '2015_academics_program_percentage_mechanic_repair_technology': 0.0542,\n",
       " '2015_academics_program_percentage_military': 0.0,\n",
       " '2015_academics_program_percentage_multidiscipline': 0.0,\n",
       " '2015_academics_program_percentage_parks_recreation_fitness': 0.0095,\n",
       " '2015_academics_program_percentage_personal_culinary': 0.0107,\n",
       " '2015_academics_program_percentage_philosophy_religious': 0.0009,\n",
       " '2015_academics_program_percentage_physical_science': 0.0058,\n",
       " '2015_academics_program_percentage_precision_production': 0.0489,\n",
       " '2015_academics_program_percentage_psychology': 0.0302,\n",
       " '2015_academics_program_percentage_public_administration_social_service': 0.0204,\n",
       " '2015_academics_program_percentage_resources': 0.0,\n",
       " '2015_academics_program_percentage_science_technology': 0.0,\n",
       " '2015_academics_program_percentage_security_law_enforcement': 0.0747,\n",
       " '2015_academics_program_percentage_social_science': 0.0064,\n",
       " '2015_academics_program_percentage_theology_religious_vocation': 0.0,\n",
       " '2015_academics_program_percentage_transportation': 0.0,\n",
       " '2015_academics_program_percentage_visual_performing': 0.0084,\n",
       " '2015_completion_rate_suppressed_overall': 0.1759,\n",
       " '2015_student_retention_rate_overall_full_time': 0.6119,\n",
       " '_id': ObjectId('5b15ea2fc9122347b09027fc'),\n",
       " 'school_name': 'South Texas College'}"
      ]
     },
     "execution_count": 7,
     "metadata": {},
     "output_type": "execute_result"
    }
   ],
   "source": [
    "data_dict"
   ]
  },
  {
   "cell_type": "code",
   "execution_count": null,
   "metadata": {},
   "outputs": [],
   "source": [
    "init_dict_keys[k].replace(\".\",\"_\")"
   ]
  },
  {
   "cell_type": "code",
   "execution_count": null,
   "metadata": {},
   "outputs": [],
   "source": [
    "init_dict_keys"
   ]
  },
  {
   "cell_type": "code",
   "execution_count": 9,
   "metadata": {},
   "outputs": [],
   "source": [
    "other_dict=db.other.find()"
   ]
  },
  {
   "cell_type": "code",
   "execution_count": 32,
   "metadata": {},
   "outputs": [],
   "source": [
    "new_list = []\n",
    "\n",
    "for each in other_dict:\n",
    "    new_dict = {}\n",
    "    keys = list((each.keys()))\n",
    "    for key in keys:\n",
    "        if key == \"_id\":\n",
    "            continue\n",
    "        else:\n",
    "            new_dict[key] = each[key]\n",
    "            \n",
    "    new_list.append(new_dict)\n",
    "        \n",
    "    "
   ]
  },
  {
   "cell_type": "code",
   "execution_count": 31,
   "metadata": {},
   "outputs": [
    {
     "data": {
      "text/plain": [
       "[]"
      ]
     },
     "execution_count": 31,
     "metadata": {},
     "output_type": "execute_result"
    }
   ],
   "source": []
  },
  {
   "cell_type": "code",
   "execution_count": 27,
   "metadata": {},
   "outputs": [
    {
     "data": {
      "text/plain": [
       "['_id',\n",
       " 'school_name',\n",
       " 'school_tuition_revenue_per_fte',\n",
       " 'school_instructional_expenditure_per_fte']"
      ]
     },
     "execution_count": 27,
     "metadata": {},
     "output_type": "execute_result"
    }
   ],
   "source": [
    "list(each.keys())"
   ]
  },
  {
   "cell_type": "code",
   "execution_count": 26,
   "metadata": {},
   "outputs": [
    {
     "data": {
      "text/plain": [
       "ObjectId('5b15ea21c9122347b09024a9')"
      ]
     },
     "execution_count": 26,
     "metadata": {},
     "output_type": "execute_result"
    }
   ],
   "source": [
    "each[\"_id\"]"
   ]
  },
  {
   "cell_type": "code",
   "execution_count": null,
   "metadata": {},
   "outputs": [],
   "source": []
  }
 ],
 "metadata": {
  "kernelspec": {
   "display_name": "Python 3",
   "language": "python",
   "name": "python3"
  },
  "language_info": {
   "codemirror_mode": {
    "name": "ipython",
    "version": 3
   },
   "file_extension": ".py",
   "mimetype": "text/x-python",
   "name": "python",
   "nbconvert_exporter": "python",
   "pygments_lexer": "ipython3",
   "version": "3.6.3"
  }
 },
 "nbformat": 4,
 "nbformat_minor": 2
}
